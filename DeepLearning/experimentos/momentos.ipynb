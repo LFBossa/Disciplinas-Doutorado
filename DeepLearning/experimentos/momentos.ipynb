{
 "cells": [
  {
   "cell_type": "markdown",
   "metadata": {},
   "source": [
    "# Cálculo de momentos \n",
    "para distribuições gaussianas multivariadas.\n",
    "\n",
    "O código abaixo foi feito para verificar o Teorema de Wick, do paper [The Principles of Deep Learning Theory](https://arxiv.org/abs/2106.10165) (Daniel A. Roberts, Sho Yaida, Boris Hanin)."
   ]
  },
  {
   "cell_type": "markdown",
   "metadata": {},
   "source": [
    "## Fazendo M simética"
   ]
  },
  {
   "cell_type": "code",
   "execution_count": 2,
   "metadata": {},
   "outputs": [
    {
     "name": "stdout",
     "output_type": "stream",
     "text": [
      "IPython console for SymPy 1.13.3 (Python 3.10.12-64-bit) (ground types: python)\n",
      "\n",
      "These commands were executed:\n",
      ">>> from sympy import *\n",
      ">>> x, y, z, t = symbols('x y z t')\n",
      ">>> k, m, n = symbols('k m n', integer=True)\n",
      ">>> f, g, h = symbols('f g h', cls=Function)\n",
      ">>> init_printing()\n",
      "\n",
      "Documentation can be found at https://docs.sympy.org/1.13.3/\n",
      "\n"
     ]
    }
   ],
   "source": [
    "from sympy import init_session\n",
    "init_session()\n",
    "\n",
    "M = Matrix([[symbols(f\"a_{min(i,j)}{max(i,j)}\") for i in range(1,4)] for j in range(1,4)] )\n",
    "X = Matrix([x,y,z])"
   ]
  },
  {
   "cell_type": "code",
   "execution_count": 3,
   "metadata": {},
   "outputs": [
    {
     "data": {
      "image/png": "[encoded data removed]",
      "text/latex": [
       "$\\displaystyle \\left[\\begin{matrix}a_{11} & a_{12} & a_{13}\\\\a_{12} & a_{22} & a_{23}\\\\a_{13} & a_{23} & a_{33}\\end{matrix}\\right]$"
      ],
      "text/plain": [
       "⎡a₁₁  a₁₂  a₁₃⎤\n",
       "⎢             ⎥\n",
       "⎢a₁₂  a₂₂  a₂₃⎥\n",
       "⎢             ⎥\n",
       "⎣a₁₃  a₂₃  a₃₃⎦"
      ]
     },
     "execution_count": 3,
     "metadata": {},
     "output_type": "execute_result"
    }
   ],
   "source": [
    "M"
   ]
  },
  {
   "cell_type": "code",
   "execution_count": 4,
   "metadata": {},
   "outputs": [],
   "source": [
    "quadratica = (X.T*M*X)[0]"
   ]
  },
  {
   "cell_type": "code",
   "execution_count": 5,
   "metadata": {},
   "outputs": [
    {
     "data": {
      "image/png": "[encoded data removed]",
      "text/latex": [
       "$\\displaystyle x \\left(a_{11} x + a_{12} y + a_{13} z\\right) + y \\left(a_{12} x + a_{22} y + a_{23} z\\right) + z \\left(a_{13} x + a_{23} y + a_{33} z\\right)$"
      ],
      "text/plain": [
       "x⋅(a₁₁⋅x + a₁₂⋅y + a₁₃⋅z) + y⋅(a₁₂⋅x + a₂₂⋅y + a₂₃⋅z) + z⋅(a₁₃⋅x + a₂₃⋅y + a₃₃ ↪\n",
       "\n",
       "↪ ⋅z)"
      ]
     },
     "execution_count": 5,
     "metadata": {},
     "output_type": "execute_result"
    }
   ],
   "source": [
    "quadratica"
   ]
  },
  {
   "cell_type": "code",
   "execution_count": 6,
   "metadata": {},
   "outputs": [],
   "source": [
    "def calcular_momento(*array):\n",
    "    if len(array) % 2 == 1:\n",
    "        return 0\n",
    "        # momentos ímpares são nulos\n",
    "    else:\n",
    "        m = len(array)//2\n",
    "        fatorial = factorial(m)\n",
    "        potencia = 2**m\n",
    "        expressao  = quadratica**m \n",
    "        print(f\"Os índices devem somar (2m-1)!! = {2*m-1}!! = {factorial2(2*m-1)}\")\n",
    "        return expressao.diff(*array)/(fatorial*potencia)\n"
   ]
  },
  {
   "cell_type": "code",
   "execution_count": 7,
   "metadata": {},
   "outputs": [
    {
     "name": "stdout",
     "output_type": "stream",
     "text": [
      "Os índices devem somar (2m-1)!! = 5!! = 15\n"
     ]
    },
    {
     "data": {
      "image/png": "[encoded data removed]",
      "text/latex": [
       "$\\displaystyle 3 a_{11} a_{23} a_{33} + 6 a_{12} a_{13} a_{33} + 6 a_{13}^{2} a_{23}$"
      ],
      "text/plain": [
       "                                     2    \n",
       "3⋅a₁₁⋅a₂₃⋅a₃₃ + 6⋅a₁₂⋅a₁₃⋅a₃₃ + 6⋅a₁₃ ⋅a₂₃"
      ]
     },
     "execution_count": 7,
     "metadata": {},
     "output_type": "execute_result"
    }
   ],
   "source": [
    "simplify(calcular_momento(x,x,y,z,z,z))"
   ]
  },
  {
   "cell_type": "code",
   "execution_count": 13,
   "metadata": {},
   "outputs": [],
   "source": [
    "A = Matrix([[2,1,0], [1,3,-1], [0,-1,4]])"
   ]
  },
  {
   "cell_type": "code",
   "execution_count": 20,
   "metadata": {},
   "outputs": [
    {
     "name": "stdout",
     "output_type": "stream",
     "text": [
      "Matrix([[x*(11*x/18 - 2*y/9 - z/18) + y*(-2*x/9 + 4*y/9 + z/9) + z*(-x/18 + y/9 + 5*z/18)]])\n"
     ]
    }
   ],
   "source": [
    "print(X.T*A.inv()*X)"
   ]
  },
  {
   "cell_type": "code",
   "execution_count": 22,
   "metadata": {},
   "outputs": [
    {
     "data": {
      "image/png": "[encoded data removed]",
      "text/latex": [
       "$\\displaystyle 36 \\pi$"
      ],
      "text/plain": [
       "36⋅π"
      ]
     },
     "execution_count": 22,
     "metadata": {},
     "output_type": "execute_result"
    }
   ],
   "source": [
    "(2*pi*A.det())"
   ]
  },
  {
   "cell_type": "code",
   "execution_count": null,
   "metadata": {},
   "outputs": [],
   "source": []
  }
 ],
 "metadata": {
  "kernelspec": {
   "display_name": "DeepLearning-DJ9gLDto",
   "language": "python",
   "name": "python3"
  },
  "language_info": {
   "codemirror_mode": {
    "name": "ipython",
    "version": 3
   },
   "file_extension": ".py",
   "mimetype": "text/x-python",
   "name": "python",
   "nbconvert_exporter": "python",
   "pygments_lexer": "ipython3",
   "version": "3.10.12"
  }
 },
 "nbformat": 4,
 "nbformat_minor": 2
}
