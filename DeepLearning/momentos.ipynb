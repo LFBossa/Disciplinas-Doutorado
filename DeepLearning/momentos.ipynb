{
 "cells": [
  {
   "cell_type": "code",
   "execution_count": 24,
   "metadata": {},
   "outputs": [
    {
     "name": "stdout",
     "output_type": "stream",
     "text": [
      "IPython console for SymPy 1.13.3 (Python 3.10.12-64-bit) (ground types: python)\n",
      "\n",
      "These commands were executed:\n",
      ">>> from sympy import *\n",
      ">>> x, y, z, t = symbols('x y z t')\n",
      ">>> k, m, n = symbols('k m n', integer=True)\n",
      ">>> f, g, h = symbols('f g h', cls=Function)\n",
      ">>> init_printing()\n",
      "\n",
      "Documentation can be found at https://docs.sympy.org/1.13.3/\n",
      "\n"
     ]
    }
   ],
   "source": [
    "from sympy import init_session\n",
    "init_session()\n",
    "\n",
    "M = Matrix([[symbols(f\"a_{min(i,j)}{max(i,j)}\") for i in range(1,4)] for j in range(1,4)] )\n",
    "X = Matrix([x,y,z])"
   ]
  },
  {
   "cell_type": "code",
   "execution_count": 25,
   "metadata": {},
   "outputs": [
    {
     "data": {
      "image/png": "[encoded data removed]",
      "text/latex": [
       "$\\displaystyle \\left[\\begin{matrix}a_{11} & a_{12} & a_{13}\\\\a_{12} & a_{22} & a_{23}\\\\a_{13} & a_{23} & a_{33}\\end{matrix}\\right]$"
      ],
      "text/plain": [
       "⎡a₁₁  a₁₂  a₁₃⎤\n",
       "⎢             ⎥\n",
       "⎢a₁₂  a₂₂  a₂₃⎥\n",
       "⎢             ⎥\n",
       "⎣a₁₃  a₂₃  a₃₃⎦"
      ]
     },
     "execution_count": 25,
     "metadata": {},
     "output_type": "execute_result"
    }
   ],
   "source": [
    "M"
   ]
  },
  {
   "cell_type": "code",
   "execution_count": 26,
   "metadata": {},
   "outputs": [],
   "source": [
    "quadratica = (X.T*M*X)[0]"
   ]
  },
  {
   "cell_type": "code",
   "execution_count": 36,
   "metadata": {},
   "outputs": [],
   "source": [
    "def calcular_momento(*array):\n",
    "    if len(array) % 2 == 1:\n",
    "        return 0\n",
    "        # momentos ímpares são nulos\n",
    "    else:\n",
    "        m = len(array)//2\n",
    "        fatorial = factorial(m)\n",
    "        potencia = 2**m\n",
    "        expressao  = quadratica**m \n",
    "        print(f\"Os índices devem somar (2m-1)!! = {2*m-1}!! = {factorial2(2*m-1)}\")\n",
    "        return expressao.diff(*array)/(fatorial*potencia)\n"
   ]
  },
  {
   "cell_type": "code",
   "execution_count": 37,
   "metadata": {},
   "outputs": [
    {
     "name": "stdout",
     "output_type": "stream",
     "text": [
      "Os índices devem somar (2m-1)!! = 5!! = 15\n"
     ]
    },
    {
     "data": {
      "image/png": "[encoded data removed]",
      "text/latex": [
       "$\\displaystyle 3 a_{11} a_{23} a_{33} + 6 a_{12} a_{13} a_{33} + 6 a_{13}^{2} a_{23}$"
      ],
      "text/plain": [
       "                                     2    \n",
       "3⋅a₁₁⋅a₂₃⋅a₃₃ + 6⋅a₁₂⋅a₁₃⋅a₃₃ + 6⋅a₁₃ ⋅a₂₃"
      ]
     },
     "execution_count": 37,
     "metadata": {},
     "output_type": "execute_result"
    }
   ],
   "source": [
    "simplify(calcular_momento(x,x,y,z,z,z))"
   ]
  },
  {
   "cell_type": "code",
   "execution_count": 31,
   "metadata": {},
   "outputs": [
    {
     "data": {
      "image/png": "[encoded data removed]",
      "text/latex": [
       "$\\displaystyle 15$"
      ],
      "text/plain": [
       "15"
      ]
     },
     "execution_count": 31,
     "metadata": {},
     "output_type": "execute_result"
    }
   ],
   "source": [
    "factorial2(5)"
   ]
  },
  {
   "cell_type": "code",
   "execution_count": null,
   "metadata": {},
   "outputs": [],
   "source": []
  }
 ],
 "metadata": {
  "kernelspec": {
   "display_name": "DeepLearning-DJ9gLDto",
   "language": "python",
   "name": "python3"
  },
  "language_info": {
   "codemirror_mode": {
    "name": "ipython",
    "version": 3
   },
   "file_extension": ".py",
   "mimetype": "text/x-python",
   "name": "python",
   "nbconvert_exporter": "python",
   "pygments_lexer": "ipython3",
   "version": "3.10.12"
  }
 },
 "nbformat": 4,
 "nbformat_minor": 2
}
